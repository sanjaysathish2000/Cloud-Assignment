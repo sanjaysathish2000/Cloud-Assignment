{
  "nbformat": 4,
  "nbformat_minor": 0,
  "metadata": {
    "colab": {
      "provenance": [],
      "include_colab_link": true
    },
    "kernelspec": {
      "name": "python3",
      "display_name": "Python 3"
    },
    "language_info": {
      "name": "python"
    }
  },
  "cells": [
    {
      "cell_type": "markdown",
      "metadata": {
        "id": "view-in-github",
        "colab_type": "text"
      },
      "source": [
        "<a href=\"https://colab.research.google.com/github/sanjaysathish2000/Cloud-Assignment/blob/main/Spam_vs_Ham.ipynb\" target=\"_parent\"><img src=\"https://colab.research.google.com/assets/colab-badge.svg\" alt=\"Open In Colab\"/></a>"
      ]
    },
    {
      "cell_type": "code",
      "source": [
        "pip install pyspark"
      ],
      "metadata": {
        "id": "r4teBNmlNtaV",
        "colab": {
          "base_uri": "https://localhost:8080/"
        },
        "outputId": "ef9e4b6f-4ad4-475a-8075-07d5cf9c97b7"
      },
      "execution_count": 13,
      "outputs": [
        {
          "output_type": "stream",
          "name": "stdout",
          "text": [
            "Requirement already satisfied: pyspark in /usr/local/lib/python3.10/dist-packages (3.5.0)\n",
            "Requirement already satisfied: py4j==0.10.9.7 in /usr/local/lib/python3.10/dist-packages (from pyspark) (0.10.9.7)\n"
          ]
        }
      ]
    },
    {
      "cell_type": "code",
      "execution_count": 14,
      "metadata": {
        "colab": {
          "base_uri": "https://localhost:8080/"
        },
        "id": "232YKq84Ne-u",
        "outputId": "658701d5-14fb-458e-fe69-2c626f4be07c"
      },
      "outputs": [
        {
          "output_type": "stream",
          "name": "stdout",
          "text": [
            "root\n",
            " |-- Email: string (nullable = true)\n",
            " |-- Subject: string (nullable = true)\n",
            " |-- Sender: string (nullable = true)\n",
            " |-- Recipient: string (nullable = true)\n",
            " |-- Date: string (nullable = true)\n",
            " |-- Time: timestamp (nullable = true)\n",
            " |-- Attachments: integer (nullable = true)\n",
            " |-- Link Count: integer (nullable = true)\n",
            " |-- Word Count: integer (nullable = true)\n",
            " |-- Uppercase Count: integer (nullable = true)\n",
            " |-- Exclamation Count: integer (nullable = true)\n",
            " |-- Question Count: integer (nullable = true)\n",
            " |-- Dollar Count: integer (nullable = true)\n",
            " |-- Punctuation Count: integer (nullable = true)\n",
            " |-- HTML Tags Count: integer (nullable = true)\n",
            " |-- Spam Indicator: integer (nullable = true)\n",
            "\n",
            "+--------------------+--------------------+--------------------+--------------------+----------+-------------------+-----------+----------+----------+---------------+-----------------+--------------+------------+-----------------+---------------+--------------+\n",
            "|               Email|             Subject|              Sender|           Recipient|      Date|               Time|Attachments|Link Count|Word Count|Uppercase Count|Exclamation Count|Question Count|Dollar Count|Punctuation Count|HTML Tags Count|Spam Indicator|\n",
            "+--------------------+--------------------+--------------------+--------------------+----------+-------------------+-----------+----------+----------+---------------+-----------------+--------------+------------+-----------------+---------------+--------------+\n",
            "|mikerusso@example...|Even hotel commun...|emilyscott@exampl...|gregorysmith@exam...|13-02-2023|2023-11-16 04:13:00|          3|         0|       191|             32|                3|             3|           0|               11|              1|             1|\n",
            "|waynebailey@examp...|Try themselves gu...|annwhite@example.net|gonzalezdaniel@ex...|09-08-2023|2023-11-16 06:15:00|          3|         9|        45|              1|                2|             1|           2|                8|              2|             1|\n",
            "|  jill43@example.com|Environmental com...| david88@example.net|michellebaker@exa...|16-05-2023|2023-11-16 01:32:00|          3|         9|        52|              1|                4|             0|           2|               10|              1|             1|\n",
            "|johnsonkaren@exam...|Smile real TV fat...|lindaalvarez@exam...|schroedertodd@exa...|25-04-2023|2023-11-16 14:50:00|          2|         3|        75|              6|                0|             2|           0|                8|              2|             0|\n",
            "|markwilson@exampl...|Fast stage he oil...|vstafford@example...|emilywilliams@exa...|11-07-2023|2023-11-16 21:44:00|          3|         5|       299|            279|                0|             2|           0|                6|              1|             1|\n",
            "+--------------------+--------------------+--------------------+--------------------+----------+-------------------+-----------+----------+----------+---------------+-----------------+--------------+------------+-----------------+---------------+--------------+\n",
            "only showing top 5 rows\n",
            "\n"
          ]
        }
      ],
      "source": [
        "from pyspark.sql import SparkSession\n",
        "\n",
        "# Step 1: Create a Spark session\n",
        "spark = SparkSession.builder.appName(\"Spam vs Ham\").getOrCreate()\n",
        "\n",
        "# Step 2: Read a dataset\n",
        "file_path = \"/content/spam_email_dataset.csv\"\n",
        "\n",
        "# Read the CSV file into a DataFrame\n",
        "# You can adjust options based on your CSV file's format\n",
        "df = spark.read.csv(file_path, header=True, inferSchema=True)\n",
        "\n",
        "# Step 3: Perform operations on the DataFrame\n",
        "df.printSchema()\n",
        "df.show(5)\n",
        "\n"
      ]
    },
    {
      "cell_type": "code",
      "source": [
        "from pyspark.sql import SparkSession\n",
        "from pyspark.ml.feature import Tokenizer, StopWordsRemover\n",
        "from pyspark.sql.functions import col, lower, when\n",
        "from pyspark.sql import functions as F\n",
        "from pyspark.sql.functions import lit, explode\n",
        "from pyspark.sql.functions import udf\n",
        "from pyspark.sql.types import ArrayType, StringType, DoubleType\n",
        "from math import log\n",
        "from collections import Counter\n",
        "\n",
        "# Select relevant columns\n",
        "selected_columns = [\"Sender\", \"Subject\", \"`Spam Indicator`\"]\n",
        "df = df.select(*selected_columns)\n",
        "\n",
        "df.show(5)\n",
        "\n",
        "# Check for null values in \"Subject,\" \"Sender,\" and \"Spam Indicator\" columns\n",
        "null_check_columns = [\"Subject\", \"Sender\", \"`Spam Indicator`\"]\n",
        "for column in null_check_columns:\n",
        "    null_count = df.filter(col(column).isNull()).count()\n",
        "    print(f\"Number of null values in {column}: {null_count}\")\n",
        "\n",
        "# Convert \"Subject\" to lowercase\n",
        "df = df.withColumn(\"Subject\", lower(col(\"Subject\")))\n",
        "\n",
        "# Handle null values in \"Spam Indicator\" column (assuming 0 for null)\n",
        "df = df.withColumn(\"`Spam Indicator`\", when(col(\"`Spam Indicator`\").isNull(), 0).otherwise(col(\"`Spam Indicator`\")))\n",
        "\n",
        "# Tokenize the \"Subject\" column\n",
        "tokenizer = Tokenizer(inputCol=\"Subject\", outputCol=\"words\")\n",
        "df = tokenizer.transform(df)\n",
        "\n",
        "# Remove stop words from the tokenized words\n",
        "remover = StopWordsRemover(inputCol=\"words\", outputCol=\"filtered\")\n",
        "df = remover.transform(df)\n",
        "\n",
        "# Select only specified columns\n",
        "selected_columns = [\"Subject\", \"Sender\", \"`Spam Indicator`\", \"filtered\"]\n",
        "df = df.select(*selected_columns)\n",
        "\n",
        "# Show the updated DataFrame\n",
        "df.show(5)\n"
      ],
      "metadata": {
        "colab": {
          "base_uri": "https://localhost:8080/"
        },
        "id": "2oWV2W6jNsfj",
        "outputId": "c2835328-ed17-4926-e2f0-52c55833b473"
      },
      "execution_count": 15,
      "outputs": [
        {
          "output_type": "stream",
          "name": "stdout",
          "text": [
            "+--------------------+--------------------+--------------+\n",
            "|              Sender|             Subject|Spam Indicator|\n",
            "+--------------------+--------------------+--------------+\n",
            "|emilyscott@exampl...|Even hotel commun...|             1|\n",
            "|annwhite@example.net|Try themselves gu...|             1|\n",
            "| david88@example.net|Environmental com...|             1|\n",
            "|lindaalvarez@exam...|Smile real TV fat...|             0|\n",
            "|vstafford@example...|Fast stage he oil...|             1|\n",
            "+--------------------+--------------------+--------------+\n",
            "only showing top 5 rows\n",
            "\n",
            "Number of null values in Subject: 0\n",
            "Number of null values in Sender: 0\n",
            "Number of null values in `Spam Indicator`: 0\n",
            "+--------------------+--------------------+--------------+--------------------+\n",
            "|             Subject|              Sender|Spam Indicator|            filtered|\n",
            "+--------------------+--------------------+--------------+--------------------+\n",
            "|even hotel commun...|emilyscott@exampl...|             1|[even, hotel, com...|\n",
            "|try themselves gu...|annwhite@example.net|             1|[try, guess, figh...|\n",
            "|environmental com...| david88@example.net|             1|[environmental, c...|\n",
            "|smile real tv fat...|lindaalvarez@exam...|             0|[smile, real, tv,...|\n",
            "|fast stage he oil...|vstafford@example...|             1|[fast, stage, oil...|\n",
            "+--------------------+--------------------+--------------+--------------------+\n",
            "only showing top 5 rows\n",
            "\n"
          ]
        }
      ]
    },
    {
      "cell_type": "code",
      "source": [
        "# Separate values based on \"Spam Indicator\" (0 for ham, 1 for spam)\n",
        "ham_df = df.filter(\"`Spam Indicator` == 0\")\n",
        "spam_df = df.filter(\"`Spam Indicator` == 1\")\n",
        "\n",
        "# Collect unique words used in ham and spam\n",
        "ham_words = ham_df.select(\"filtered\").rdd.flatMap(lambda x: x[\"filtered\"]).distinct().collect()\n",
        "spam_words = spam_df.select(\"filtered\").rdd.flatMap(lambda x: x[\"filtered\"]).distinct().collect()\n",
        "\n",
        "# Display unique words in ham and spam\n",
        "print(\"Unique words in ham emails:\")\n",
        "print(ham_words)\n",
        "\n",
        "print(\"\\nUnique words in spam emails:\")\n",
        "print(spam_words)\n",
        "\n",
        "# Show the updated DataFrame\n",
        "ham_df.show(5)\n",
        "spam_df.show(5)\n"
      ],
      "metadata": {
        "colab": {
          "base_uri": "https://localhost:8080/"
        },
        "id": "kuqXch4y3I1u",
        "outputId": "8715692a-8534-4c7c-f430-f3cb5168df85"
      },
      "execution_count": 16,
      "outputs": [
        {
          "output_type": "stream",
          "name": "stdout",
          "text": [
            "Unique words in ham emails:\n",
            "['smile', 'real', 'tv', 'father', 'commercial', 'day', 'increase.', 'sort', 'prepare', 'skin', 'story', 'glass', 'use.', 'cell', 'pass', 'perform', 'popular.', 'particular', 'suffer', 'possible.', 'control', 'remain', 'morning', 'general', 'discuss.', 'represent', 'speak', 'weight', 'pretty', 'discover', 'room', 'food.', 'policy', 'energy', 'truth', 'issue.', 'method', 'candidate', 'happy.', 'become', 'pick', 'under.', 'town', 'defense', 'young', 'return', 'matter', 'discover.', 'boy', 'away', 'cold', 'may', 'control.', 'five', 'enough', 'exist', 'author', 'community.', 'science', 'western', 'mr', 'often', 'blue.', 'need', 'senior', 'sound', 'citizen.', 'go', 'situation', 'traditional', 'practice', 'east', 'wind.', 'alone', 'public', 'help', 'great.', 'listen', 'cup', 'southern', 'laugh.', 'yet', 'answer', 'goal', 'reality', 'piece', 'long', 'stop.', 'relationship', 'husband', 'maintain', 'nor.', 'sister', 'indeed', 'give', 'writer', 'effort', 'actually.', 'training', 'wind', 'national', 'kitchen', 'able.', 'ground', 'language', 'stay', 'success.', 'still', 'instead', 'tend', 'large.', 'whole', 'production', 'nation', 'summer', 'eye', 'example', 'song.', 'chair', 'talk', 'current', 'find.', 'mind', 'culture.', 'nice', 'speech', 'important', 'say', 'with.', 'blood', 'section', 'year.', 'particularly', 'discuss', 'scientist', 'trade', 'beautiful.', 'society', 'game', 'policy.', 'generation', 'care', 'share.', 'front', 'whatever', 'claim', 'especially', 'soon.', 'course', 'world', 'hear', 'call', 'oil.', 'bank', 'large', 'indicate', 'key.', 'list', 'make', 'ask', 'another.', 'letter', 'together', 'heavy', 'reason', 'hear.', 'model', 'important.', 'somebody', 'organization', 'experience', 'least.', 'side', 'knowledge', 'tough', 'end.', 'responsibility', 'voice', 'stop', 'hand', 'film.', 'hour', 'artist', 'want', 'feeling.', 'age.', 'right', 'unit', 'over.', 'tonight', 'position', 'pay', 'customer.', 'us', 'lose', 'thing', 'response.', 'whose', 'property', 'argue.', 'travel', 'born', 'beyond', 'though.', 'way', 'guy', 'type', 'fill', 'ago.', 'man', 'head', 'thank', 'eight', 'sing', 'eat', 'social', 'choose', 'investment', 'idea.', 'accept', 'final', 'life.', 'customer', 'three', 'charge.', 'various', 'impact', 'event', 'environmental', 'west.', 'fast', 'close', 'scientist.', 'use', 'toward', 'growth', 'work.', 'rich', 'anything', 'call.', 'keep.', 'second', 'true', 'break.', 'business', 'development', 'item', 'similar', 'each.', 'natural', 'top', 'record', 'child.', 'provide', 'feel', 'main', 'deep.', 'guess', 'health', 'least', 'name', 'soon', 'side.', 'term', 'keep', 'voice.', 'significant', 'heart', 'power', 'school.', 'girl', 'protect', 'sport', 'capital.', 'law', 'edge', 'require', 'official', 'education.', 'suggest', 'maybe', 'room.', 'two', 'along', 'well', 'million', 'opportunity', 'mention.', 'issue', 'trip', 'newspaper', 'indicate.', 'style', 'list.', 'usually', 'son', 'attack', 'government', 'skin.', 'leg', 'bill', 'behind', 'material.', 'foot', 'visit', 'system', 'bad', 'see', 'since', 'else', 'project.', 'field', 'church', 'produce', 'attack.', 'hair', 'child', 'north.', 'small', 'interview', 'hot', 'different.', 'agency', 'republican', 'home', 'yard.', 'different', 'expert', 'audience.', 'option', 'future', 'computer', 'yard', 'born.', 'message', 'leader', 'like', 'ready.', 'wear', 'moment', 'young.', 'quickly', 'perform.', 'check', 'evidence', 'window.', 'available', 'develop', 'gun', 'interview.', 'account', 'sit', 'leader.', 'finish', 'minute', 'bill.', 'hope.', 'source', 'yeah', 'plant', 'difficult', 'focus.', 'individual', 'bring', 'respond.', 'measure', 'ever.', 'purpose', 'fight', 'become.', 'sometimes', 'ready', 'hold', 'old.', 'war', 'feeling', 'beat.', 'size', 'single', 'network', 'activity', 'beat', 'draw.', 'inside', 'result', 'people', 'personal', 'fine', 'exist.', 'nearly', 'buy', 'mention', 'challenge', 'compare.', 'window', 'tv.', 'enter', 'paper', 'data', 'head.', 'task.', 'break', 'operation', 'general.', 'exactly', 'financial.', 'picture', 'must', 'parent.', 'condition', 'space.', 'media', 'walk', 'research', 'successful', 'adult', 'shake', 'either.', 'place', 'professional', 'eight.', 'consider', 'major', 'carry', 'figure', 'reduce.', 'threat', 'mrs', 'sport.', 'color', 'probably', 'say.', 'value', 'news', 'plant.', 'material', 'many', 'lay', 'change', 'attention', 'laugh', 'film', 'idea', 'either', 'center.', 'ever', 'green', 'machine', 'onto', 'she.', 'bag', 'four', 'party.', 'manage', 'than.', 'rate', 'enjoy', 'explain', 'tree', 'character', 'tonight.', 'leave', 'prevent', 'fine.', 'whether', 'similar.', 'administration', 'strategy', 'left', 'region', 'economy.', 'find', 'also.', 'necessary', 'let', 'blue', 'institution', 'care.', 'avoid.', 'political', 'past', 'rock', 'manager', 'stay.', 'admit', 'respond', 'improve', 'half', 'reflect', 'allow', 'human', 'professional.', 'surface', 'serious', 'name.', 'road', 'onto.', 'week', 'process', 'imagine', 'church.', 'officer', 'sure', 'standard', 'positive.', 'forward', 'star', 'do.', 'resource', 'lawyer.', 'certainly', 'share', 'act.', 'play', 'stock', 'task', 'green.', 'quite', 'local', 'discussion.', 'four.', 'fund', 'give.', 'recognize', 'fear', 'then.', 'however', 'step', 'music', 'stage.', 'season', 'part', 'employee', 'speak.', 'technology', 'wonder', 'range', 'include.', 'six', 'oil', 'significant.', 'management', 'interesting', 'car', 'dinner', 'enough.', 'congress', 'full', 'lot', 'know', 'score', 'mission.', 'community', 'though', 'crime', 'seek', 'dark', 'pull', 'information', 'court', 'suggest.', 'page', 'will.', 'build', 'dog.', 'argue', 'throw.', 'peace', 'really.', 'box', 'team', 'product', 'civil.', 'dog', 'culture', 'none', 'size.', 'including', 'require.', 'today', 'art', 'send.', 'throughout', 'turn', 'kitchen.', 'mean.', 'factor', 'answer.', 'audience', 'send', 'southern.', 'seem', 'degree', 'focus', 'wrong', 'hotel', 'another', 'participant.', 'little', 'magazine', 'until.', 'nothing', 'possible', 'check.', 'good', 'american.', 'prove.', 'sell', 'benefit', 'final.', 'act', 'less', 'quite.', 'number.', 'believe.', 'hit', 'fight.', 'staff', 'race', 'nature', 'wait', 'cost.', 'clearly', 'brother', 'money.', 'drop', 'create', 'responsibility.', 'pattern', 'agree', 'test.', 'article', 'west', 'skill', 'white', 'ahead', 'wish.', 'push', 'fly', 'once.', 'everyone', 'and.', 'understand', 'watch', 'expert.', 'write', 'force', 'into.', 'international', 'mother', 'ground.', 'treat', 'month.', 'agent', 'pressure', 'old', 'nearly.', 'later', 'response', 'water.', 'federal', 'detail', 'themselves.', 'career', 'big.', 'anyone', 'against.', 'per', 'let.', 'coach', 'military', 'best.', 'concern', 'admit.', 'win', 'pm', 'claim.', 'total', 'history', 'program', 'plan.', 'door', 'south', 'world.', 'population', 'result.', 'environment', 'group', 'time', 'create.', 'company', 'near', 'north', 'rather.', 'move', 'need.', 'spend', 'drug.', 'decade', 'although', 'life', 'anything.', 'open', 'marriage', 'notice', 'hospital', 'although.', 'woman', 'matter.', 'hard', 'everybody.', 'popular', 'certainly.', 'meet', 'sister.', 'fire', 'ability.', 'stand', 'face', 'these.', 'money', 'economic.', 'wish', 'red.', 'upon', 'mean', 'including.', 'number', 'month', 'strong', 'method.', 'class.', 'loss', 'former', 'wide', 'fire.', 'seat', 'interest', 'hope', 'situation.', 'join', 'table', 'quality', 'low', 'might', 'view.', 'bar', 'movement', 'safe', 'area', 'network.', 'yourself.', 'yes', 'question.', 'follow', 'treatment', 'drive', 'occur.', 'student', 'black', 'soldier', 'form.', 'job', 'produce.', 'chance', 'street', 'set', 'court.', 'certain', 'statement', 'seat.', 'stage', 'board', 'brother.', 'cause.', 'ago', 'attorney', 'one', 'all.', 'service', 'assume.', 'identify', 'test', 'easy', 'support.', 'look', 'run', 'fish', 'newspaper.', 'trial', 'turn.', 'miss', 'year', 'common', 'rest', 'walk.', 'add', 'food', 'improve.', 'trouble', 'those.', 'our.', 'charge', 'collection', 'whom.', 'subject', 'model.', 'key', 'follow.', 'budget', 'garden', 'point.', 'simply', 'kind', 'student.', 'read.', 'religious', 'raise.', 'ball', 'office', 'century', 'clear', 'receive', 'pattern.', 'question', 'draw', 'song', 'add.', 'discussion', 'think.', 'recently', 'doctor.', 'much', 'free', 'structure', 'price', 'both.', 'sea', 'form', 'relationship.', 'middle', 'appear', 'where.', 'finally', 'weight.', 'mouth', 'according', 'sign', 'tell', 'industry.', 'lead', 'drug', 'true.', 'high', 'happen', 'science.', 'reveal', 'cultural', 'continue.', 'performance', 'college', 'recently.', 'pull.', 'case', 'design', 'analysis', 'foreign.', 'throw', 'trip.', 'positive', 'trouble.', 'economy', 'mind.', 'scene', 'medical', 'art.', 'red', 'nature.', 'night', 'range.', 'ten', 'project', 'education', 'attorney.', 'save', 'reveal.', 'american', 'never', 'space', 'finally.', 'piece.', 'reduce', 'only.', 'live.', 'air', 'almost.', 'daughter', 'ahead.', 'radio', 'start', 'force.', 'worry', 'establish', 'vote', 'note', 'really', 'just.', 'modern', 'catch', 'without.', 'party', 'point', 'outside.', 'back', 'measure.', 'short', 'spring.', 'continue', 'long.', 'station', 'could.', 'within', 'industry', 'sign.', 'memory', 'already.', 'thousand', 'talk.', 'deal', 'include', 'begin', 'body', 'firm', 'now.', 'cut', 'push.', 'assume', 'six.', 'despite', 'dream', 'lay.', 'success', 'take', 'strategy.', 'religious.', 'put', 'family.', 'gas', 'or.', 'conference', 'approach', 'local.', 'third', 'camera.', 'rather', 'without', 'wife.', 'back.', 'word', 'take.', 'lawyer', 'store', 'seek.', 'man.', 'seven', 'image', 'billion.', 'always', 'avoid', 'truth.', 'arm', 'my.', 'worker', 'believe', 'thought.', 'simple.', 'cause', 'involve', 'environment.', 'campaign', 'painting', 'any.', 'early', 'best', 'hot.', 'maybe.', 'decade.', 'study', 'address', 'national.', 'again.', 'present', 'member', 'fact', 'serve', 'evening', 'animal', 'democratic', 'base', 'chance.', 'specific', 'risk', 'growth.', 'wife', 'notice.', 'state', 'machine.', 'apply.', 'be.', 'grow', 'way.', 'wall', 'rise', 'study.', 'event.', 'right.', 'direction', 'magazine.', 'building', 'bar.', 'special', 'subject.', 'enter.', 'mission', 'report', 'apply', 'describe', 'deep', 'former.', 'theory', 'financial', 'region.', 'baby.', 'authority', 'write.', 'majority', 'security', 'work', 'time.', 'fall', 'level', 'son.', 'season.', 'try', 'big', 'effect', 'leave.', 'production.', 'per.', 'daughter.', 'family', 'remember', 'toward.', 'order', 'citizen', 'choice.', 'behavior', 'across', 'player', 'past.', 'reach', 'goal.', 'player.', 'clear.', 'amount', 'sure.', 'likely', 'land', 'ability', 'light.', 'police', 'determine', 'behind.', 'real.', 'seem.', 'clearly.', 'view', 'democrat', 'often.', 'central', 'message.', 'decide', 'better', 'many.', 'friend', 'indeed.', 'peace.', 'feel.', 'reflect.', 'budget.', 'hundred', 'contain', 'several.', 'live', 'easy.', 'cover.', 'outside', 'spring', 'lot.', 'support', 'tax', 'teacher', 'recent', 'position.', 'concern.', 'foreign', 'everyone.', 'movie', 'official.', 'teach', 'among.', 'reach.', 'ok', 'too.', 'person', 'image.', 'business.', 'that.', 'less.', 'television.', 'show', 'whose.', 'score.', 'realize', 'entire', 'difference.', 'arrive.', 'water', 'skill.', 'occur', 'us.', 'arrive', 'poor', 'cold.', 'light', 'prevent.', 'analysis.', 'attention.', 'affect', 'baby', 'new', 'determine.', 'safe.', 'billion', 'agree.', 'decision', 'offer', 'consumer', 'bed', 'letter.', 'tree.', 'example.', 'parent', 'manage.', 'since.', 'physical', 'capital', 'able', 'necessary.', 'age', 'present.', 'between.', 'deal.', 'relate', 'hair.', 'guy.', 'teacher.', 'affect.', 'they.', 'grow.', 'far', 'impact.', 'available.', 'common.', 'employee.', 'road.', 'threat.', 'get', 'tend.', 'city', 'sea.', 'even', 'heart.', 'store.', 'plan', 'expect', 'approach.', 'during.', 'campaign.', 'recent.', 'book', 'something', 'language.', 'owner.', 'about.', 'school', 'thing.', 'out.', 'career.', 'the.', 'generation.', 'amount.', 'cost', 'record.', 'see.', 'individual.', 'last', 'adult.', 'as.', 'coach.', 'behavior.', 'serve.', 'moment.', 'choice', 'together.', 'so.', 'while.', 'shoulder', 'i.', 'every', 'story.', 'by.', 'might.', 'investment.', 'compare', 'account.', 'ok.', 'its.', 'woman.', 'note.', 'technology.', 'ball.', 'can.', 'great', 'firm.', 'rule', 'specific.', 'land.', 'professor', 'bit', 'camera', 'card', 'how.', 'class', 'late.', 'think', 'first.', 'election', 'we.', 'perhaps', 'cut.', 'boy.', 'course.', 'agent.', 'still.', 'also', 'edge.', 'end', 'her.', 'arm.', 'election.', 'value.', 'action', 'civil', 'look.', 'nothing.', 'thus.', 'middle.', 'management.', 'role', 'according.', 'market', 'good.', 'health.', 'itself.', 'modern.', 'receive.', 'identify.', 'actually', 'phone', 'term.', 'agreement', 'owner', 'main.', 'wait.', 'future.', 'before.', 'no.', 'almost', 'debate.', 'relate.', 'difference', 'trade.', 'new.', 'degree.', 'prove', 'it.', 'wall.', 'politics', 'forget.', 'in.', 'near.', 'hold.', 'kid', 'participant', 'sound.', 'provide.', 'couple', 'everything', 'step.', 'rule.', 'such.', 'several', 'stand.', 'detail.', 'cup.', 'among', 'development.', 'partner', 'make.', 'first', 'next', 'increase', 'sing.', 'sort.', 'bank.', 'allow.', 'own.', 'because.', 'country', 'guess.', 'later.', 'play.', 'forget', 'job.', 'senior.', 'sense.', 'style.', 'everything.', 'glass.', 'never.', 'learn', 'operation.', 'fill.', 'already', 'television', 'meeting', 'but.', 'huge', 'around', 'economic', 'service.', 'word.', 'sense', 'anyone.', 'stuff', 'data.', 'girl.', 'choose.', 'day.', 'history.', 'stock.', 'director', 'town.', 'company.', 'friend.', 'little.', 'floor', 'may.', 'small.', 'product.', 'house', 'raise', 'writer.', 'particularly.', 'war.', 'instead.', 'to.', 'high.', 'next.', 'bag.', 'factor.', 'figure.', 'thus', 'hit.', 'hour.', 'series.', 'away.', 'line', 'suddenly', 'beautiful', 'himself.', 'rise.', 'understand.', 'hotel.', 'set.', 'speech.', 'section.', 'executive', 'down.', 'change.', 'report.', 'box.', 'husband.', 'who.', 'listen.', 'car.', 'bed.', 'soldier.', 'probably.', 'remain.', 'political.', 'show.', 'kid.', 'site', 'mouth.', 'foot.', 'front.', 'appear.', 'miss.', 'board.', 'simple', 'bring.', 'president.', 'information.', 'represent.', 'gas.', 'series', 'early.', 'republican.', 'hospital.', 'others.', 'contain.', 'top.', 'vote.', 'two.', 'yet.', 'executive.', 'professor.', 'expect.', 'get.', 'father.', 'center', 'experience.', 'interest.', 'suffer.', 'type.', 'movie.', 'major.', 'thought', 'cell.', 'direction.', 'statement.', 'there.', 'reason.', 'would.', 'late', 'structure.', 'research.', 'difficult.', 'line.', 'you.', 'reality.', 'price.', 'agency.', 'last.', 'purpose.', 'involve.', 'card.', 'sometimes.', 'today.', 'drive.', 'everybody', 'author.', 'wide.', 'cultural.', 'full.', 'century.', 'most.', 'morning.', 'body.', 'read', 'lose.', 'theory.', 'news.', 'few.', 'free.', 'from.', 'building.', 'pay.', 'ask.', 'huge.', 'doctor', 'wear.', 'training.', 'wonder.', 'inside.', 'whether.', 'someone', 'eye.', 'officer.', 'practice.', 'social.', 'summer.', 'perhaps.', 'kind.', 'administration.', 'animal.', 'around.', 'south.', 'site.', 'human.', 'open.', 'paper.', 'black.', 'treatment.', 'meet.', 'spend.', 'should.', 'bad.', 'knowledge.', 'happy', 'city.', 'personal.', 'agreement.', 'action.', 'like.', 'game.', 'whatever.', 'defense.', 'others', 'team.', 'poor.', 'prepare.', 'security.', 'police.', 'none.', 'happen.', 'director.', 'item.', 'sell.', 'above.', 'article.', 'federal.', 'western.', 'consumer.', 'member.', 'wrong.', 'station.', 'law.', 'blood.', 'central.', 'base.', 'across.', 'drop.', 'teach.', 'worker.', 'marriage.', 'process.', 'option.', 'save.', 'here.', 'likely.', 'standard.', 'me.', 'him.', 'much.', 'group.', 'institution.', 'design.', 'tell.', 'book.', 'quickly.', 'even.', 'power.', 'far.', 'low.', 'collection.', 'have.', 'suddenly.', 'debate', 'hard.', 'market.', 'majority.', 'something.', 'dark.', 'sit.', 'what.', 'serious.', 'he.', 'president', 'try.', 'through.', 'state.', 'nice.', 'finish.', 'decision.', 'third.', 'bit.', 'one.', 'loss.', 'program.', 'eat.', 'phone.', 'partner.', 'learn.', 'performance.', 'natural.', 'better.', 'politics.', 'whole.', 'gun.', 'dream.', 'some.', 'energy.', 'place.', 'computer.', 'mother.', 'short.', 'democrat.', 'pm.', 'organization.', 'garden.', 'same.', 'level.', 'public.', 'person.', 'worry.', 'after.', 'this.', 'evening.', 'know.', 'beyond.', 'current.', 'want.', 'dinner.', 'very.', 'couple.', 'benefit.', 'country.', 'buy.', 'must.', 'challenge.', 'home.', 'million.', 'area.', 'pretty.', 'tough.', 'ten.', 'traditional.', 'mrs.', 'chair.', 'every.', 'their.', 'hundred.', 'simply.', 'myself.', 'off.', 'cover', 'military.', 'star.', 'minute.', 'white.', 'pressure.', 'treat.', 'well.', 'evidence.', 'on.', 'pick.', 'stuff.', 'why.', 'floor.', 'run.', 'face.', 'people.', 'protect.', 'carry.', 'opportunity.', 'fall.', 'music.', 'three.', 'despite.', 'accept.', 'lead.', 'seven.', 'remember.', 'effort.', 'maintain.', 'yeah.', 'color.', 'begin.', 'half.', 'visit.', 'rock.', 'effect.', 'east.', 'memory.', 'close.', 'thank.', 'manager.', 'tax.', 'fast.', 'air.', 'go.', 'not.', 'part.', 'condition.', 'at.', 'single.', 'of.', 'recognize.', 'your.', 'certain.', 'them.', 'second.', 'rich.', 'source.', 'medical.', 'unit.', 'his.', 'address.', 'start.', 'join.', 'win.', 'if.', 'meeting.', 'which.', 'trial.', 'special.', 'rest.', 'pass.', 'college.', 'character.', 'help.', 'up.', 'radio.', 'other.', 'leg.', 'role.', 'street.', 'staff.', 'system.', 'government.', 'within.', 'travel.', 'establish.', 'offer.', 'candidate.', 'fear.', 'especially.', 'describe.', 'scene.', 'week.', 'yes.', 'left.', 'consider.', 'someone.', 'democratic.', 'shoulder.', 'imagine.', 'movement.', 'enjoy.', 'picture.', 'strong.', 'risk.', 'media.', 'somebody.', 'however.', 'commercial.', 'table.', 'thousand.', 'activity.', 'total.', 'catch.', 'artist.', 'return.', 'order.', 'mr.', 'crime.', 'congress.', 'watch.', 'shake.', 'exactly.', 'for.', 'herself.', 'five.', 'page.', 'house.', 'fly.', 'population.', 'decide.', 'build.', 'usually.', 'fund.', 'when.']\n",
            "\n",
            "Unique words in spam emails:\n",
            "['even', 'hotel', 'community', 'church.', 'try', 'guess', 'fight', 'white', 'agreement', 'thus', 'although.', 'environmental', 'commercial', 'seem', 'conference.', 'fast', 'stage', 'oil', 'institution.', 'pull', 'sense', 'weight', 'choice', 'trade.', 'moment', 'table', 'name', 'green', 'bill', 'thank', 'college.', 'senior', 'understand', 'notice', 'fish', 'pass', 'mrs.', 'standard', 'first', 'allow', 'face.', 'son', 'east', 'staff', 'eat.', 'police', 'million', 'foreign', 'current', 'age', 'toward.', 'sister', 'protect', 'eye', 'recent.', 'middle', 'at.', 'toward', 'mind', 'issue', 'sign', 'give.', 'along', 'brother', 'leave', 'suddenly', 'day', 'son.', 'three', 'worker', 'price', 'fact.', 'attack', 'pay', 'back.', 'body', 'office', 'letter.', 'evening', 'focus', 'stop', 'believe', 'bank', 'service', 'item', 'official', 'quickly', 'inside', 'western', 'identify.', 'peace', 'process', 'anyone.', 'card', 'threat', 'area', 'city', 'cup.', 'common', 'citizen', 'discussion', 'campaign', 'none', 'well.', 'mean', 'political', 'though', 'finish', 'individual.', 'difference', 'life', 'expert.', 'policy', 'picture', 'follow', 'real.', 'image', 'black', 'series.', 'article', 'leader', 'bag', 'book', 'serious.', 'specific', 'democratic', 'director.', 'back', 'kitchen.', 'watch', 'national', 'behind', 'service.', 'particular', 'serve', 'method', 'model', 'many', 'vote.', 'chair', 'production', 'film', 'difficult', 'run', 'could.', 'edge', 'personal', 'election.', 'admit', 'prove', 'popular', 'nice', 'practice', 'hope.', 'season', 'garden', 'thing.', 'family', 'week', 'especially.', 'consumer', 'available', 'purpose', 'budget', 'now.', 'cold', 'outside', 'school', 'decision', 'such.', 'factor', 'state', 'artist', 'poor', 'else', 'participant.', 'year', 'result', 'drug.', 'push', 'network.', 'state.', 'effect', 'maybe', 'character', 'second', 'audience.', 'teach', 'especially', 'former', 'mean.', 'hour', 'drop', 'nearly', 'actually.', 'likely', 'say', 'page', 'reach', 'recognize', 'peace.', 'happen', 'north', 'voice.', 'tv', 'institution', 'answer', 'miss', 'expert', 'interview', 'free.', 'ready', 'popular.', 'determine', 'cause', 'amount', 'recently', 'account', 'large', 'better.', 'dog', 'eight', 'never', 'mr', 'little.', 'fine', 'culture.', 'customer', 'information', 'sure', 'effort', 'doctor', 'among', 'though.', 'student', 'memory', 'always.', 'lawyer', 'machine', 'similar', 'really.', 'audience', 'travel', 'note', 'station', 'trade', 'about.', 'group', 'work', 'spring', 'true', 'wear', 'half', 'visit.', 'event', 'tend', 'seek', 'apply.', 'agent', 'get', 'food', 'role.', 'board', 'girl.', 'late', 'economic', 'of.', 'hard', 'result.', 'feeling', 'water', 'necessary.', 'response', 'present', 'treat', 'look.', 'impact', 'since', 'land.', 'husband', 'particularly.', 'enter', 'continue', 'tell', 'much', 'their.', 'clear', 'really', 'box', 'building', 'want.', 'clearly', 'another', 'system', 'indeed', 'across.', 'generation', 'sit', 'top', 'trip.', 'agree', 'car', 'happen.', 'later', 'financial', 'general', 'hospital.', 'next', 'mrs', 'future', 'full', 'assume.', 'within', 'seven.', 'cup', 'near', 'mr.', 'look', 'mind.', 'program', 'detail', 'sea', 'catch', 'across', 'series', 'instead', 'foot.', 'serious', 'record', 'including', 'nothing.', 'various', 'parent', 'keep', 'compare.', 'candidate', 'military.', 'science', 'realize', 'simply', 'set', 'occur', 'happy.', 'improve', 'wide', 'plant', 'structure.', 'take', 'open', 'forget', 'bad', 'mouth', 'include', 'cause.', 'buy', 'third', 'traditional.', 'go', 'matter', 'list', 'your.', 'executive', 'reduce', 'growth', 'know', 'rather.', 'ground', 'probably', 'century', 'job', 'business.', 'gas', 'part', 'still.', 'prepare', 'movement', 'end', 'read.', 'party', 'economy', 'course', 'career.', 'huge', 'spend', 'resource.', 'mother', 'trip', 'professor', 'environment', 'defense.', 'sometimes', 'shake', 'feel', 'way.', 'case', 'shoulder', 'challenge', 'other.', 'kind', 'want', 'dark', 'player', 'value.', 'surface', 'finally.', 'story.', 'compare', 'us', 'arrive.', 'coach', 'play', 'try.', 'term', 'particular.', 'physical', 'suffer', 'western.', 'far', 'necessary', 'power', 'high', 'above.', 'pm', 'level', 'movie.', 'lose', 'field', 'great.', 'speak', 'able', 'deal.', 'heart', 'federal', 'carry', 'product', 'news', 'mission.', 'prevent', 'officer', 'benefit', 'think', 'analysis', 'since.', 'air', 'simple', 'experience', 'place', 'thing', 'imagine', 'ever', 'care.', 'anything', 'arm', 'message', 'choose', 'stay', 'hundred.', 'whatever', 'natural.', 'key', 'grow', 'security', 'view.', 'speech', 'four', 'road', 'often.', 'country', 'fly', 'blue', 'catch.', 'measure', 'feel.', 'one', 'bit', 'statement.', 'development', 'loss', 'use', 'manage.', 'hot', 'however', 'top.', 'turn', 'seven', 'actually', 'visit', 'notice.', 'vote', 'seat', 'return', 'cell.', 'exist', 'red', 'kind.', 'behavior', 'throw', 'wait.', 'agency.', 'individual', 'defense', 'action', 'heavy', 'second.', 'offer', 'sport.', 'teacher', 'easy', 'right', 'strategy.', 'wish', 'soon', 'camera', 'sense.', 'case.', 'mission', 'president', 'sort', 'race', 'degree.', 'radio', 'throw.', 'cover.', 'sea.', 'big', 'least.', 'wrong', 'street', 'break.', 'majority', 'around.', 'old', 'several', 'yard', 'spend.', 'author', 'yet.', 'affect', 'bed.', 'provide', 'worry', 'knowledge.', 'trouble.', 'quite', 'everyone', 'world', 'while.', 'minute.', 'wife', 'college', 'paper.', 'particularly', 'center', 'give', 'involve.', 'support', 'authority', 'style.', 'girl', 'yet', 'address', 'pick', 'hotel.', 'form', 'begin', 'approach', 'explain.', 'six', 'situation', 'health.', 'consider', 'help.', 'respond', 'game.', 'help', 'hold', 'human', 'strong', 'south', 'big.', 'ask', 'story', 'manager', 'mother.', 'ten', 'space', 'drop.', 'discover', 'fly.', 'art', 'crime.', 'into.', 'reason', 'much.', 'might', 'may.', 'goal', 'know.', 'investment', 'special', 'light', 'upon', 'success', 'recent', 'away', 'collection', 'life.', 'nature', 'close', 'decide', 'north.', 'skill', 'skin', 'per', 'past', 'hit.', 'music', 'home', 'plan', 'standard.', 'major', 'safe', 'tax', 'home.', 'chance', 'community.', 'billion', 'let', 'remember', 'authority.', 'best', 'cold.', 'southern', 'five', 'order', 'deal', 'example.', 'degree', 'court', 'according', 'may', 'main', 'manager.', 'scene', 'interest', 'style', 'truth', 'others', 'political.', 'increase', 'behind.', 'writer', 'various.', 'enough', 'someone', 'difficult.', 'reveal', 'green.', 'organization', 'garden.', 'design', 'yeah', 'write.', 'time', 'step', 'certain', 'ready.', 'social', 'forget.', 'affect.', 'hundred', 'third.', 'computer', 'somebody', 'card.', 'region', 'religious', 'pressure', 'within.', 'produce', 'environment.', 'culture', 'central', 'guess.', 'window', 'join', 'allow.', 'head', 'minute', 'up.', 'point.', 'hear.', 'possible', 'administration', 'paper', 'out.', 'accept', 'certainly.', 'gun', 'require', 'voice', 'ball.', 'direction', 'interesting', 'receive.', 'rise', 'meeting', 'letter', 'because.', 'health', 'site', 'house.', 'owner', 'wish.', 'director', 'wind.', 'almost', 'anything.', 'stock.', 'star', 'knowledge', 'nation', 'natural', 'difference.', 'born', 'that.', 'floor', 'fill.', 'government', 'show', 'agreement.', 'example', 'maintain', 'guy', 'laugh', 'it.', 'task', 'opportunity', 'contain', 'sort.', 'discuss', 'for.', 'last', 'total', 'bring', 'scene.', 'money', 'man', 'today', 'success.', 'shoulder.', 'prove.', 'ball', 'operation.', 'great', 'movie', 'rate', 'dinner', 'check.', 'type', 'everything', 'piece', 'despite', 'network', 'describe.', 'couple', 'low', 'become', 'throughout', 'hair.', 'leg', 'position', 'professional', 'deep', 'work.', 'hospital', 'night', 'ability.', 'around', 'next.', 'eat', 'friend', 'blue.', 'space.', 'market', 'woman', 'win.', 'what.', 'wonder', 'cost', 'let.', 'sometimes.', 'and.', 'game', 'energy', 'admit.', 'break', 'mention', 'staff.', 'alone.', 'room', 'identify', 'nature.', 'create.', 'senior.', 'painting', 'product.', 'control', 'face', 'rock.', 'activity', 'kid.', 'adult', 'condition', 'good.', 'subject', 'yard.', 'walk', 'land', 'structure', 'real', 'begin.', 'participant', 'least', 'sell.', 'left', 'far.', 'collection.', 'law', 'develop', 'rest', 'indeed.', 'always', 'share.', 'size', 'public', 'serve.', 'save.', 'glass', 'risk', 'animal', 'friend.', 'five.', 'accept.', 'kid', 'beat', 'together.', 'save', 'hand', 'without', 'enjoy', 'sing', 'member', 'economic.', 'dream', 'argue.', 'property', 'only.', 'important.', 'fall', 'front', 'certain.', 'tonight', 'unit', 'establish.', 'firm.', 'phone', 'without.', 'often', 'front.', 'represent', 'gas.', 'traditional', 'exactly', 'score.', 'performance', 'foot', 'international.', 'reduce.', 'reflect', 'society', 'soldier', 'medical', 'itself.', 'still', 'stand', 'everyone.', 'treatment.', 'explain', 'long.', 'fight.', 'wall', 'quality', 'positive.', 'study', 'relate.', 'situation.', 'hear', 'war', 'him.', 'speak.', 'remain', 'quite.', 'must', 'employee', 'eight.', 'relationship', 'act', 'join.', 'boy', 'rise.', 'operation', 'way', 'pass.', 'enough.', 'blood', 'see', 'treatment', 'important', 'line.', 'establish', 'simple.', 'physical.', 'fact', 'claim', 'every.', 'fund', 'morning', 'professional.', 'kitchen', 'drive', 'close.', 'study.', 'line', 'sport', 'loss.', 'point', 'door.', 'word', 'argue', 'off.', 'town.', 'move', 'lose.', 'sell', 'similar.', 'question', 'deep.', 'child.', 'religious.', 'build', 'assume', 'hot.', 'add', 'local', 'start.', 'hope', 'whole', 'threat.', 'we.', 'class', 'action.', 'cut', 'agree.', 'whom.', 'listen', 'bank.', 'write', 'democrat', 'seek.', 'conference', 'thought', 'player.', 'decade', 'section', 'lead', 'decide.', 'daughter', 'stock', 'hair', 'figure.', 'marriage', 'model.', 'perform', 'apply', 'debate.', 'surface.', 'cell', 'wait', 'beyond', 'total.', 'skin.', 'civil', 'fire', 'tree', 'training', 'draw', 'send.', 'fill', 'military', 'onto', 'summer', 'page.', 'make', 'lot', 'adult.', 'from.', 'develop.', 'population', 'test', 'expect', 'include.', 'wind', 'last.', 'perhaps', 'put', 'baby', 'watch.', 'town', 'city.', 'animal.', 'entire', 'with.', 'reality', 'set.', 'own.', 'like', 'executive.', 'everybody', 'career', 'together', 'clearly.', 'child', 'opportunity.', 'indicate', 'among.', 'single', 'show.', 'door', 'stand.', 'responsibility', 'cultural', 'call.', 'avoid', 'factor.', 'good', 'force', 'down.', 'first.', 'range', 'already', 'research', 'theory', 'three.', 'source', 'support.', 'guy.', 'share', 'movement.', 'politics', 'project.', 'build.', 'concern', 'head.', 'start', 'everybody.', 'prevent.', 'finally', 'already.', 'realize.', 'trial', 'quality.', 'country.', 'church', 'receive', 'suffer.', 'election', 'policy.', 'interest.', 'debate', 'consumer.', 'people', 'whole.', 'world.', 'inside.', 'nothing', 'relate', 'ahead.', 'return.', 'news.', 'agent.', 'appear.', 'cover', 'candidate.', 'center.', 'people.', 'little', 'business', 'building.', 'enjoy.', 'store', 'learn', 'west', 'sister.', 'either', 'dark.', 'base', 'new', 'single.', 'free', 'bed', 'almost.', 'involve', 'change', 'education', 'stuff.', 'every', 'author.', 'memory.', 'modern', 'person', 'rule', 'analysis.', 'middle.', 'house', 'better', 'ability', 'require.', 'behavior.', 'officer.', 'team', 'billion.', 'would.', 'few.', 'term.', 'arrive', 'likely.', 'check', 'all.', 'rich', 'pattern', 'pressure.', 'floor.', 'lay', 'yourself.', 'attention', 'special.', 'something', 'today.', 'theory.', 'put.', 'blood.', 'recently.', 'during.', 'once.', 'raise', 'whatever.', 'send', 'color', 'safe.', 'television', 'science.', 'population.', 'each.', 'thousand', 'figure', 'crime', 'suggest', 'less', 'throughout.', 'nor.', 'bit.', 'media', 'attorney', 'industry.', 'rather', 'song', 'happy', 'although', 'pattern.', 'role', 'exist.', 'record.', 'dinner.', 'source.', 'call', 'upon.', 'reason.', 'value', 'option.', 'bar', 'care', 'president.', 'well', 'meet', 'think.', 'final', 'probably.', 'idea', 'when.', 'consider.', 'data', 'rock', 'long', 'something.', 'mouth.', 'capital.', 'trouble', 'not.', 'direction.', 'race.', 'foreign.', 'artist.', 'score', 'leader.', 'south.', 'number', 'seem.', 'site.', 'language', 'whether', 'store.', 'heavy.', 'school.', 'describe', 'company.', 'certainly', 'speech.', 'ago', 'statement', 'note.', 'like.', 'fear', 'picture.', 'protect.', 'live', 'ok', 'her.', 'management', 'couple.', 'reflect.', 'resource', 'different', 'computer.', 'pretty', 'drug', 'red.', 'lot.', 'organization.', 'evidence', 'republican.', 'local.', 'focus.', 'spring.', 'whose', 'risk.', 'practice.', 'nation.', 'improve.', 'hold.', 'southern.', 'leave.', 'area.', 'information.', 'music.', 'number.', 'key.', 'base.', 'yeah.', 'appear', 'wonder.', 'night.', 'reach.', 'republican', 'talk', 'see.', 'this.', 'no.', 'range.', 'newspaper.', 'six.', 'significant.', 'side', 'time.', 'charge.', 'industry', 'you.', 'charge', 'congress', 'pick.', 'agency', 'place.', 'strategy', 'by.', 'read', 'despite.', 'month', 'somebody.', 'attention.', 'firm', 'material', 'finish.', 'again.', 'tonight.', 'positive', 'technology', 'its.', 'add.', 'team.', 'walk.', 'ever.', 'type.', 'grow.', 'smile', 'partner', 'tough', 'four.', 'present.', 'capital', 'human.', 'win', 'alone', 'history.', 'effort.', 'in.', 'create', 'fish.', 'significant', 'past.', 'politics.', 'two', 'open.', 'possible.', 'nearly.', 'including.', 'those.', 'just.', 'skill.', 'campaign.', 'very.', 'short', 'move.', 'history', 'can.', 'pay.', 'why.', 'nice.', 'family.', 'rest.', 'young', 'heart.', 'else.', 'view', 'both.', 'american', 'central.', 'wide.', 'beautiful', 'training.', 'technology.', 'indicate.', 'high.', 'also', 'day.', 'away.', 'common.', 'anyone', 'idea.', 'report', 'power.', 'use.', 'per.', 'tough.', 'available.', 'commercial.', 'court.', 'will.', 'me.', 'attorney.', 'seat.', 'turn.', 'before.', 'if.', 'or.', 'cut.', 'hit', 'manage', 'treat.', 'price.', 'contain.', 'successful', 'poor.', 'season.', 'huge.', 'need.', 'body.', 'himself.', 'man.', 'stuff', 'choose.', 'left.', 'civil.', 'talk.', 'how.', 'drive.', 'trial.', 'husband.', 'room.', 'approach.', 'subject.', 'along.', 'act.', 'international', 'process.', 'i.', 'between.', 'marriage.', 'herself.', 'class.', 'sound', 'maybe.', 'week.', 'simply.', 'address.', 'concern.', 'tell.', 'soldier.', 'usually.', 'language.', 'member.', 'bad.', 'economy.', 'window.', 'job.', 'prepare.', 'others.', 'step.', 'scientist', 'exactly.', 'young.', 'small', 'ahead', 'some.', 'make.', 'so.', 'weight.', 'account.', 'list.', 'answer.', 'never.', 'summer.', 'section.', 'position.', 'evidence.', 'but.', 'wall.', 'get.', 'strong.', 'issue.', 'experience.', 'newspaper', 'tax.', 'small.', 'us.', 'phone.', 'water.', 'sit.', 'beautiful.', 'matter.', 'after.', 'challenge.', 'property.', 'they.', 'against.', 'owner.', 'father', 'message.', 'successful.', 'society.', 'learn.', 'condition.', 'future.', 'several.', 'imagine.', 'large.', 'test.', 'article.', 'citizen.', 'car.', 'meeting.', 'group.', 'magazine', 'stop.', 'fire.', 'measure.', 'whose.', 'company', 'project', 'less.', 'option', 'half.', 'law.', 'forward', 'scientist.', 'wrong.', 'early', 'environmental.', 'another.', 'responsibility.', 'morning.', 'old.', 'someone.', 'go.', 'report.', 'there.', 'moment.', 'usually', 'course.', 'dream.', 'play.', 'baby.', 'carry.', 'control.', 'fall.', 'beyond.', 'democratic.', 'remember.', 'discover.', 'entire.', 'whether.', 'yes', 'clear.', 'song.', 'lawyer.', 'end.', 'represent.', 'art.', 'claim.', 'pm.', 'over.', 'discuss.', 'on.', 'maintain.', 'continue.', 'hard.', 'find.', 'money.', 'painting.', 'produce.', 'financial.', 'believe.', 'these.', 'take.', 'national.', 'she.', 'growth.', 'event.', 'brother.', 'which.', 'must.', 'worry.', 'data.', 'father.', 'sign.', 'effect.', 'onto.', 'also.', 'machine.', 'thus.', 'find', 'arm.', 'street.', 'buy.', 'film.', 'eye.', 'order.', 'according.', 'enter.', 'easy.', 'investment.', 'final.', 'specific.', 'stay.', 'dog.', 'pretty.', 'ask.', 'general.', 'live.', 'white.', 'detail.', 'education.', 'here.', 'design.', 'piece.', 'party.', 'stage.', 'than.', 'a.', 'teach.', 'fund.', 'his.', 'through.', 'teacher.', 'glass.', 'chair.', 'amount.', 'level.', 'parent.', 'board.', 'however.', 'short.', 'even.', 'different.', 'where.', 'benefit.', 'color.', 'under.', 'tree.', 'instead.', 'as.', 'late.', 'right.', 'pull.', 'year.', 'need', 'method.', 'word.', 'keep.', 'light.', 'remain.', 'impact.', 'two.', 'rule.', 'recognize.', 'doctor.', 'thousand.', 'station.', 'attack.', 'government.', 'coach.', 'evening.', 'say.', 'thank.', 'ok.', 'student.', 'best.', 'main.', 'outside.', 'air.', 'travel.', 'unit.', 'response.', 'do.', 'administration.', 'medical.', 'customer.', 'listen.', 'understand.', 'image.', 'food.', 'be.', 'rate.', 'performance.', 'forward.', 'part.', 'bag.', 'he.', 'boy.', 'follow.', 'decade.', 'sure.', 'avoid.', 'edge.', 'east.', 'item.', 'many.', 'star.', 'black.', 'tend.', 'purpose.', 'management.', 'material.', 'writer.', 'hand.', 'perform.', 'chance.', 'program.', 'my.', 'current.', 'goal.', 'early.', 'wife.', 'region.', 'hour.', 'former.', 'decision.', 'any.', 'able.', 'oil.', 'office.', 'majority.', 'field.', 'month.', 'million.', 'west.', 'woman.', 'plant.', 'leg.', 'full.', 'push.', 'later.', 'partner.', 'camera.', 'fast.', 'personal.', 'who.', 'the.', 'form.', 'table.', 'become.', 'gun.', 'suddenly.', 'born.', 'generation.', 'official.', 'reveal.', 'increase.', 'research.', 'change.', 'ago.', 'size.', 'social.', 'more.', 'beat.', 'soon.', 'suggest.', 'system.', 'radio.', 'age.', 'yes.', 'them.', 'development.', 'security.', 'meet.', 'ground.', 'daughter.', 'either.', 'federal.', 'interesting.', 'person.', 'wear.', 'same.', 'television.', 'police.', 'provide.', 'none.', 'fine.', 'interview.', 'tv.', 'themselves.', 'our.', 'shake.', 'lay.', 'professor.', 'character.', 'everything.', 'century.', 'draw.', 'should.', 'might.', 'laugh.', 'question.', 'reality.', 'low.', 'cultural.', 'book.', 'mention.', 'run.', 'worker.', 'occur.', 'road.', 'choice.', 'cost.', 'smile.', 'modern.', 'too.', 'side.', 'feeling.', 'major.', 'truth.', 'sing.', 'lead.', 'respond.', 'most.']\n",
            "+--------------------+--------------------+--------------+--------------------+\n",
            "|             Subject|              Sender|Spam Indicator|            filtered|\n",
            "+--------------------+--------------------+--------------+--------------------+\n",
            "|smile real tv fat...|lindaalvarez@exam...|             0|[smile, real, tv,...|\n",
            "|sort prepare skin...|brianschmidt@exam...|             0|[sort, prepare, s...|\n",
            "|cell pass of perf...|hesterjulie@examp...|             0|[cell, pass, perf...|\n",
            "|particular suffer...|deborahhill@examp...|             0|[particular, suff...|\n",
            "|control remain mo...|burnettvictoria@e...|             0|[control, remain,...|\n",
            "+--------------------+--------------------+--------------+--------------------+\n",
            "only showing top 5 rows\n",
            "\n",
            "+--------------------+--------------------+--------------+--------------------+\n",
            "|             Subject|              Sender|Spam Indicator|            filtered|\n",
            "+--------------------+--------------------+--------------+--------------------+\n",
            "|even hotel commun...|emilyscott@exampl...|             1|[even, hotel, com...|\n",
            "|try themselves gu...|annwhite@example.net|             1|[try, guess, figh...|\n",
            "|environmental com...| david88@example.net|             1|[environmental, c...|\n",
            "|fast stage he oil...|vstafford@example...|             1|[fast, stage, oil...|\n",
            "|pull sense from w...|fergusonbilly@exa...|             1|[pull, sense, wei...|\n",
            "+--------------------+--------------------+--------------+--------------------+\n",
            "only showing top 5 rows\n",
            "\n"
          ]
        }
      ]
    },
    {
      "cell_type": "code",
      "source": [
        "# Collect all the filtered words used in ham emails\n",
        "ham_words = ham_df.select(\"filtered\").rdd.flatMap(lambda x: x[\"filtered\"]).collect()\n",
        "\n",
        "# Use Counter to count occurrences of each word in ham emails\n",
        "word_counts_ham = Counter(ham_words)\n",
        "\n",
        "# Convert the Counter to a DataFrame\n",
        "word_counts_ham_df = spark.createDataFrame(word_counts_ham.items(), [\"word\", \"count\"])\n",
        "\n",
        "# Show the top 10 ham words\n",
        "print(\"Top 10 Ham Words:\")\n",
        "word_counts_ham_df.orderBy(F.desc(\"count\")).show(10)"
      ],
      "metadata": {
        "colab": {
          "base_uri": "https://localhost:8080/"
        },
        "id": "SmMozUBVREYq",
        "outputId": "17144833-e459-4886-b07f-5f77ab91ac03"
      },
      "execution_count": 17,
      "outputs": [
        {
          "output_type": "stream",
          "name": "stdout",
          "text": [
            "Top 10 Ham Words:\n",
            "+---------+-----+\n",
            "|     word|count|\n",
            "+---------+-----+\n",
            "|    exist|   28|\n",
            "| whatever|   26|\n",
            "|    field|   26|\n",
            "|    black|   26|\n",
            "|    thing|   25|\n",
            "|     move|   25|\n",
            "|education|   25|\n",
            "|  science|   24|\n",
            "|  section|   24|\n",
            "|      lay|   23|\n",
            "+---------+-----+\n",
            "only showing top 10 rows\n",
            "\n"
          ]
        }
      ]
    },
    {
      "cell_type": "code",
      "source": [
        "from pyspark.sql import functions as F\n",
        "from pyspark.sql.functions import explode, col\n",
        "\n",
        "# Assuming you have a DataFrame named spam_df with columns \"Sender\", \"Subject\", and \"filtered\" containing tokenized words\n",
        "\n",
        "# Select the top 10 ham words\n",
        "top_ham_words = word_counts_ham_df.orderBy(F.desc(\"count\")).limit(10).select(\"word\").rdd.flatMap(lambda x: x).collect()\n",
        "\n",
        "# Explode the array column to separate rows in ham emails\n",
        "ham_df_exploded = ham_df.select(\"Sender\", \"Subject\", explode(\"filtered\").alias(\"word\"))\n",
        "\n",
        "# Filter based on the top ham words\n",
        "top_ham_senders = (\n",
        "    ham_df_exploded\n",
        "    .filter(col(\"word\").isin(top_ham_words))\n",
        "    .groupBy(\"Sender\", \"Subject\")\n",
        "    .count()\n",
        "    .orderBy(F.desc(\"count\"))\n",
        "    .limit(10)\n",
        ")\n",
        "\n",
        "# Show the top 10 ham senders and subjects\n",
        "print(\"Top 10 ham Senders and Subjects:\")\n",
        "top_ham_senders.show(truncate=False)\n"
      ],
      "metadata": {
        "colab": {
          "base_uri": "https://localhost:8080/"
        },
        "id": "l8rX0O7g7ZPu",
        "outputId": "4c18acd9-fb29-4a38-d4ed-f1559a0c94ea"
      },
      "execution_count": 18,
      "outputs": [
        {
          "output_type": "stream",
          "name": "stdout",
          "text": [
            "Top 10 ham Senders and Subjects:\n",
            "+-----------------------------+-----------------------------------------------------------------+-----+\n",
            "|Sender                       |Subject                                                          |count|\n",
            "+-----------------------------+-----------------------------------------------------------------+-----+\n",
            "|ndelgado@example.com         |choose move force dream method book few.                         |2    |\n",
            "|meaganlarson@example.com     |us lose southern thing whatever response.                        |2    |\n",
            "|jessicaallen@example.net     |exist imagine game record science skill mother.                  |2    |\n",
            "|laurenmcdonald@example.com   |method item rule skin deep hold thing paper.                     |2    |\n",
            "|mossjoshua@example.com       |enter exist help section than.                                   |2    |\n",
            "|meganfrye@example.org        |certain step field top field see past.                           |2    |\n",
            "|fmacdonald@example.net       |thing give move national.                                        |2    |\n",
            "|katherinecummings@example.org|great determine special direction important decide whatever thus.|1    |\n",
            "|jasminekeller@example.org    |social report education rest.                                    |1    |\n",
            "|xcabrera@example.net         |important mind move off both treat discuss.                      |1    |\n",
            "+-----------------------------+-----------------------------------------------------------------+-----+\n",
            "\n"
          ]
        }
      ]
    },
    {
      "cell_type": "code",
      "source": [
        "# Collect all the filtered words used in spam emails\n",
        "spam_words = spam_df.select(\"filtered\").rdd.flatMap(lambda x: x[\"filtered\"]).collect()\n",
        "\n",
        "# Use Counter to count occurrences of each word in spam emails\n",
        "word_counts_spam = Counter(spam_words)\n",
        "\n",
        "# Convert the Counter to a DataFrame\n",
        "word_counts_spam_df = spark.createDataFrame(word_counts_spam.items(), [\"word\", \"count\"])\n",
        "\n",
        "# Show the top 10 spam words\n",
        "print(\"Top 10 Spam Words:\")\n",
        "word_counts_spam_df.orderBy(F.desc(\"count\")).show(10)"
      ],
      "metadata": {
        "colab": {
          "base_uri": "https://localhost:8080/"
        },
        "id": "jxCpeurh6eWw",
        "outputId": "684ca4e9-4fa9-483e-d501-f0b86846cc89"
      },
      "execution_count": 19,
      "outputs": [
        {
          "output_type": "stream",
          "name": "stdout",
          "text": [
            "Top 10 Spam Words:\n",
            "+-------+-----+\n",
            "|   word|count|\n",
            "+-------+-----+\n",
            "|western|   30|\n",
            "|produce|   29|\n",
            "|control|   27|\n",
            "|    buy|   25|\n",
            "|   like|   24|\n",
            "|    try|   24|\n",
            "|federal|   24|\n",
            "| return|   24|\n",
            "|   girl|   24|\n",
            "|address|   24|\n",
            "+-------+-----+\n",
            "only showing top 10 rows\n",
            "\n"
          ]
        }
      ]
    },
    {
      "cell_type": "code",
      "source": [
        "from pyspark.sql import functions as F\n",
        "from pyspark.sql.functions import explode, col\n",
        "\n",
        "# Select the top 10 spam words\n",
        "top_spam_words = word_counts_spam_df.orderBy(F.desc(\"count\")).limit(10).select(\"word\").rdd.flatMap(lambda x: x).collect()\n",
        "\n",
        "# Explode the array column to separate rows in spam emails\n",
        "spam_df_exploded = spam_df.select(\"Sender\", \"Subject\", explode(\"filtered\").alias(\"word\"))\n",
        "\n",
        "# Filter based on the top spam words\n",
        "top_spam_senders = (\n",
        "    spam_df_exploded\n",
        "    .filter(col(\"word\").isin(top_spam_words))\n",
        "    .groupBy(\"Sender\", \"Subject\")\n",
        "    .count()\n",
        "    .orderBy(F.desc(\"count\"))\n",
        "    .limit(10)\n",
        ")\n",
        "\n",
        "# Show the top 10 spam senders and subjects\n",
        "print(\"Top 10 Spam Senders and Subjects:\")\n",
        "top_spam_senders.show(truncate=False)\n"
      ],
      "metadata": {
        "colab": {
          "base_uri": "https://localhost:8080/"
        },
        "id": "qWKjuclL7n1L",
        "outputId": "004d534b-0083-4b74-abc3-5044d525470e"
      },
      "execution_count": 20,
      "outputs": [
        {
          "output_type": "stream",
          "name": "stdout",
          "text": [
            "Top 10 Spam Senders and Subjects:\n",
            "+--------------------------+-------------------------------------------------------+-----+\n",
            "|Sender                    |Subject                                                |count|\n",
            "+--------------------------+-------------------------------------------------------+-----+\n",
            "|hollandkatelyn@example.net|control control receive per.                           |2    |\n",
            "|bryanconner@example.com   |wonder wonder appear pull.                             |2    |\n",
            "|jimmy09@example.com       |board behind buy accept operation federal enjoy.       |2    |\n",
            "|james78@example.org       |each girl yet address pick hotel.                      |2    |\n",
            "|hooperdakota@example.org  |federal produce peace explain you certainly everything.|2    |\n",
            "|lisa57@example.org        |produce kitchen quickly mother learn return face.      |2    |\n",
            "|veronicaburke@example.org |address similar produce street oil.                    |2    |\n",
            "|david33@example.net       |buy job why western interesting make describe.         |2    |\n",
            "|carmen88@example.com      |control send wonder hour physical pretty.              |2    |\n",
            "|markpadilla@example.org   |wonder food seek western do.                           |2    |\n",
            "+--------------------------+-------------------------------------------------------+-----+\n",
            "\n"
          ]
        }
      ]
    },
    {
      "cell_type": "code",
      "source": [
        "# Select relevant columns from top_ham_senders\n",
        "df = top_ham_senders.select(\"Sender\", \"Subject\")\n",
        "\n",
        "# Tokenize the \"Subject\" column\n",
        "tokenizer_udf = udf(lambda text: text.split(), ArrayType(StringType()))\n",
        "df = df.withColumn(\"words\", tokenizer_udf(df[\"Subject\"]))\n",
        "\n",
        "# Calculate Term Frequencies (TF)\n",
        "calculate_tf_udf = udf(lambda word_list: {word: word_list.count(word) / len(word_list) for word in set(word_list)}, StringType())\n",
        "df = df.withColumn(\"tf\", calculate_tf_udf(df[\"words\"]))\n",
        "\n",
        "# Extract unique words\n",
        "unique_words = list(set(df.selectExpr(\"explode(words) as word\").select(\"word\").distinct().rdd.flatMap(lambda x: x).collect()))\n",
        "\n",
        "# Calculate Inverse Document Frequencies (IDF)\n",
        "total_documents = df.count()\n",
        "document_frequency = df.select(\"Sender\", \"words\").rdd.flatMap(lambda x: [(word, 1) for word in set(x[1])]).reduceByKey(lambda x, y: x + y)\n",
        "idf_values = document_frequency.map(lambda x: (x[0], log(total_documents / x[1])))\n",
        "\n",
        "# Broadcast IDF values\n",
        "idf_broadcast = spark.sparkContext.broadcast(dict(idf_values.collect()))\n",
        "\n",
        "# Calculate TF-IDF for each document\n",
        "def calculate_tfidf(row):\n",
        "    user_name, words = row\n",
        "    tfidf_values = {word: words.count(word) * idf_broadcast.value.get(word, 0.0) for word in words}\n",
        "    return user_name, words, tfidf_values\n",
        "\n",
        "tfidf_data = df.select(\"Sender\", \"words\").rdd.map(calculate_tfidf)\n",
        "\n",
        "# Display the result\n",
        "tfidf_df = spark.createDataFrame(tfidf_data, [\"Sender\", \"words\", \"tfidf\"])\n",
        "tfidf_df.show(10, truncate = False)\n"
      ],
      "metadata": {
        "colab": {
          "base_uri": "https://localhost:8080/"
        },
        "id": "QbIpuFKZZxQd",
        "outputId": "0c3903c4-1139-490a-bc90-a0392b5cc574"
      },
      "execution_count": 21,
      "outputs": [
        {
          "output_type": "stream",
          "name": "stdout",
          "text": [
            "+-----------------------------+--------------------------------------------------------------------------+----------------------------------------------------------------------------------------------------------------------------------------------------------------------------------------------------------------------------------------------------+\n",
            "|Sender                       |words                                                                     |tfidf                                                                                                                                                                                                                                               |\n",
            "+-----------------------------+--------------------------------------------------------------------------+----------------------------------------------------------------------------------------------------------------------------------------------------------------------------------------------------------------------------------------------------+\n",
            "|ndelgado@example.com         |[choose, move, force, dream, method, book, few.]                          |{move -> 1.2039728043259361, method -> 1.6094379124341003, dream -> 2.302585092994046, book -> 2.302585092994046, few. -> 2.302585092994046, force -> 2.302585092994046, choose -> 2.302585092994046}                                               |\n",
            "|meaganlarson@example.com     |[us, lose, southern, thing, whatever, response.]                          |{southern -> 2.302585092994046, response. -> 2.302585092994046, lose -> 2.302585092994046, thing -> 1.2039728043259361, whatever -> 1.6094379124341003, us -> 2.302585092994046}                                                                    |\n",
            "|jessicaallen@example.net     |[exist, imagine, game, record, science, skill, mother.]                   |{exist -> 1.6094379124341003, game -> 2.302585092994046, imagine -> 2.302585092994046, skill -> 2.302585092994046, science -> 2.302585092994046, record -> 2.302585092994046, mother. -> 2.302585092994046}                                         |\n",
            "|laurenmcdonald@example.com   |[method, item, rule, skin, deep, hold, thing, paper.]                     |{deep -> 2.302585092994046, item -> 2.302585092994046, method -> 1.6094379124341003, paper. -> 2.302585092994046, skin -> 2.302585092994046, rule -> 2.302585092994046, thing -> 1.2039728043259361, hold -> 2.302585092994046}                     |\n",
            "|mossjoshua@example.com       |[enter, exist, help, section, than.]                                      |{exist -> 1.6094379124341003, help -> 2.302585092994046, section -> 2.302585092994046, enter -> 2.302585092994046, than. -> 2.302585092994046}                                                                                                      |\n",
            "|meganfrye@example.org        |[certain, step, field, top, field, see, past.]                            |{see -> 2.302585092994046, past. -> 2.302585092994046, top -> 2.302585092994046, field -> 4.605170185988092, step -> 2.302585092994046, certain -> 2.302585092994046}                                                                               |\n",
            "|fmacdonald@example.net       |[thing, give, move, national.]                                            |{give -> 2.302585092994046, move -> 1.2039728043259361, national. -> 2.302585092994046, thing -> 1.2039728043259361}                                                                                                                                |\n",
            "|katherinecummings@example.org|[great, determine, special, direction, important, decide, whatever, thus.]|{important -> 1.6094379124341003, special -> 2.302585092994046, determine -> 2.302585092994046, decide -> 2.302585092994046, great -> 2.302585092994046, whatever -> 1.6094379124341003, thus. -> 2.302585092994046, direction -> 2.302585092994046}|\n",
            "|jasminekeller@example.org    |[social, report, education, rest.]                                        |{report -> 2.302585092994046, education -> 2.302585092994046, rest. -> 2.302585092994046, social -> 2.302585092994046}                                                                                                                              |\n",
            "|xcabrera@example.net         |[important, mind, move, off, both, treat, discuss.]                       |{important -> 1.6094379124341003, mind -> 2.302585092994046, treat -> 2.302585092994046, move -> 1.2039728043259361, discuss. -> 2.302585092994046, off -> 2.302585092994046, both -> 2.302585092994046}                                            |\n",
            "+-----------------------------+--------------------------------------------------------------------------+----------------------------------------------------------------------------------------------------------------------------------------------------------------------------------------------------------------------------------------------------+\n",
            "\n"
          ]
        }
      ]
    },
    {
      "cell_type": "code",
      "source": [
        "# Select relevant columns from top_spam_senders\n",
        "df = top_spam_senders.select(\"Sender\", \"Subject\")\n",
        "\n",
        "# Tokenize the \"Subject\" column\n",
        "tokenizer_udf = udf(lambda text: text.split(), ArrayType(StringType()))\n",
        "df = df.withColumn(\"words\", tokenizer_udf(df[\"Subject\"]))\n",
        "\n",
        "# Calculate Term Frequencies (TF)\n",
        "calculate_tf_udf = udf(lambda word_list: {word: word_list.count(word) / len(word_list) for word in set(word_list)}, StringType())\n",
        "df = df.withColumn(\"tf\", calculate_tf_udf(df[\"words\"]))\n",
        "\n",
        "# Extract unique words\n",
        "unique_words = list(set(df.selectExpr(\"explode(words) as word\").select(\"word\").distinct().rdd.flatMap(lambda x: x).collect()))\n",
        "\n",
        "# Calculate Inverse Document Frequencies (IDF)\n",
        "total_documents = df.count()\n",
        "document_frequency = df.select(\"Sender\", \"words\").rdd.flatMap(lambda x: [(word, 1) for word in set(x[1])]).reduceByKey(lambda x, y: x + y)\n",
        "idf_values = document_frequency.map(lambda x: (x[0], log(total_documents / x[1])))\n",
        "\n",
        "# Broadcast IDF values\n",
        "idf_broadcast = spark.sparkContext.broadcast(dict(idf_values.collect()))\n",
        "\n",
        "# Calculate TF-IDF for each document\n",
        "def calculate_tfidf(row):\n",
        "    user_name, words = row\n",
        "    tfidf_values = {word: words.count(word) * idf_broadcast.value.get(word, 0.0) for word in words}\n",
        "    return user_name, words, tfidf_values\n",
        "\n",
        "tfidf_data = df.select(\"Sender\", \"words\").rdd.map(calculate_tfidf)\n",
        "\n",
        "# Display the result\n",
        "tfidf_df = spark.createDataFrame(tfidf_data, [\"Sender\", \"words\", \"tfidf\"])\n",
        "tfidf_df.show(10, truncate = False)\n",
        "\n"
      ],
      "metadata": {
        "colab": {
          "base_uri": "https://localhost:8080/"
        },
        "id": "mnf-uT0_2LSa",
        "outputId": "b593475b-9d4f-4e93-d66f-25a22e2b07f3"
      },
      "execution_count": 22,
      "outputs": [
        {
          "output_type": "stream",
          "name": "stdout",
          "text": [
            "+--------------------------+---------------------------------------------------------------+--------------------------------------------------------------------------------------------------------------------------------------------------------------------------------------------------------------------+\n",
            "|Sender                    |words                                                          |tfidf                                                                                                                                                                                                               |\n",
            "+--------------------------+---------------------------------------------------------------+--------------------------------------------------------------------------------------------------------------------------------------------------------------------------------------------------------------------+\n",
            "|hollandkatelyn@example.net|[control, control, receive, per.]                              |{receive -> 2.302585092994046, control -> 3.2188758248682006, per. -> 2.302585092994046}                                                                                                                            |\n",
            "|jimmy09@example.com       |[board, behind, buy, accept, operation, federal, enjoy.]       |{behind -> 2.302585092994046, buy -> 1.6094379124341003, federal -> 1.6094379124341003, enjoy. -> 2.302585092994046, operation -> 2.302585092994046, board -> 2.302585092994046, accept -> 2.302585092994046}       |\n",
            "|james78@example.org       |[each, girl, yet, address, pick, hotel.]                       |{hotel. -> 2.302585092994046, address -> 1.6094379124341003, pick -> 2.302585092994046, yet -> 2.302585092994046, girl -> 2.302585092994046, each -> 2.302585092994046}                                             |\n",
            "|hooperdakota@example.org  |[federal, produce, peace, explain, you, certainly, everything.]|{explain -> 2.302585092994046, certainly -> 2.302585092994046, everything. -> 2.302585092994046, peace -> 2.302585092994046, federal -> 1.6094379124341003, produce -> 1.2039728043259361, you -> 2.302585092994046}|\n",
            "|lisa57@example.org        |[produce, kitchen, quickly, mother, learn, return, face.]      |{mother -> 2.302585092994046, learn -> 2.302585092994046, quickly -> 2.302585092994046, face. -> 2.302585092994046, kitchen -> 2.302585092994046, produce -> 1.2039728043259361, return -> 2.302585092994046}       |\n",
            "|veronicaburke@example.org |[address, similar, produce, street, oil.]                      |{oil. -> 2.302585092994046, similar -> 2.302585092994046, address -> 1.6094379124341003, produce -> 1.2039728043259361, street -> 2.302585092994046}                                                                |\n",
            "|david33@example.net       |[buy, job, why, western, interesting, make, describe.]         |{describe. -> 2.302585092994046, interesting -> 2.302585092994046, buy -> 1.6094379124341003, why -> 2.302585092994046, western -> 1.6094379124341003, job -> 2.302585092994046, make -> 2.302585092994046}         |\n",
            "|carmen88@example.com      |[control, send, wonder, hour, physical, pretty.]               |{pretty. -> 2.302585092994046, hour -> 2.302585092994046, control -> 1.6094379124341003, wonder -> 1.2039728043259361, physical -> 2.302585092994046, send -> 2.302585092994046}                                    |\n",
            "|markpadilla@example.org   |[wonder, food, seek, western, do.]                             |{do. -> 2.302585092994046, western -> 1.6094379124341003, wonder -> 1.2039728043259361, seek -> 2.302585092994046, food -> 2.302585092994046}                                                                       |\n",
            "|bryanconner@example.com   |[wonder, wonder, appear, pull.]                                |{pull. -> 2.302585092994046, appear -> 2.302585092994046, wonder -> 2.4079456086518722}                                                                                                                             |\n",
            "+--------------------------+---------------------------------------------------------------+--------------------------------------------------------------------------------------------------------------------------------------------------------------------------------------------------------------------+\n",
            "\n"
          ]
        }
      ]
    }
  ]
}